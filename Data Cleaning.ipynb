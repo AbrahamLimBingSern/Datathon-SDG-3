{
 "cells": [
  {
   "cell_type": "code",
   "execution_count": 1,
   "id": "eb6df358",
   "metadata": {},
   "outputs": [],
   "source": [
    "import pandas as pd"
   ]
  },
  {
   "cell_type": "code",
   "execution_count": 2,
   "id": "46004586",
   "metadata": {},
   "outputs": [
    {
     "data": {
      "text/html": [
       "<div>\n",
       "<style scoped>\n",
       "    .dataframe tbody tr th:only-of-type {\n",
       "        vertical-align: middle;\n",
       "    }\n",
       "\n",
       "    .dataframe tbody tr th {\n",
       "        vertical-align: top;\n",
       "    }\n",
       "\n",
       "    .dataframe thead th {\n",
       "        text-align: right;\n",
       "    }\n",
       "</style>\n",
       "<table border=\"1\" class=\"dataframe\">\n",
       "  <thead>\n",
       "    <tr style=\"text-align: right;\">\n",
       "      <th></th>\n",
       "      <th>State</th>\n",
       "      <th>Year</th>\n",
       "      <th>Staff type</th>\n",
       "      <th>Hospital category</th>\n",
       "      <th>Number of staff</th>\n",
       "    </tr>\n",
       "  </thead>\n",
       "  <tbody>\n",
       "    <tr>\n",
       "      <th>0</th>\n",
       "      <td>Johor</td>\n",
       "      <td>2015</td>\n",
       "      <td>Doctor</td>\n",
       "      <td>Government</td>\n",
       "      <td>2854</td>\n",
       "    </tr>\n",
       "    <tr>\n",
       "      <th>1</th>\n",
       "      <td>Johor</td>\n",
       "      <td>2015</td>\n",
       "      <td>Doctor</td>\n",
       "      <td>Private</td>\n",
       "      <td>1399</td>\n",
       "    </tr>\n",
       "    <tr>\n",
       "      <th>2</th>\n",
       "      <td>Johor</td>\n",
       "      <td>2015</td>\n",
       "      <td>Dentist</td>\n",
       "      <td>Government</td>\n",
       "      <td>331</td>\n",
       "    </tr>\n",
       "    <tr>\n",
       "      <th>3</th>\n",
       "      <td>Johor</td>\n",
       "      <td>2015</td>\n",
       "      <td>Dentist</td>\n",
       "      <td>Private</td>\n",
       "      <td>259</td>\n",
       "    </tr>\n",
       "    <tr>\n",
       "      <th>4</th>\n",
       "      <td>Johor</td>\n",
       "      <td>2015</td>\n",
       "      <td>Nurse</td>\n",
       "      <td>Government</td>\n",
       "      <td>6441</td>\n",
       "    </tr>\n",
       "    <tr>\n",
       "      <th>...</th>\n",
       "      <td>...</td>\n",
       "      <td>...</td>\n",
       "      <td>...</td>\n",
       "      <td>...</td>\n",
       "      <td>...</td>\n",
       "    </tr>\n",
       "    <tr>\n",
       "      <th>379</th>\n",
       "      <td>W.P. Putrajaya</td>\n",
       "      <td>2017</td>\n",
       "      <td>Dentist</td>\n",
       "      <td>Private</td>\n",
       "      <td>7</td>\n",
       "    </tr>\n",
       "    <tr>\n",
       "      <th>380</th>\n",
       "      <td>W.P. Putrajaya</td>\n",
       "      <td>2017</td>\n",
       "      <td>Nurse</td>\n",
       "      <td>Government</td>\n",
       "      <td>2312</td>\n",
       "    </tr>\n",
       "    <tr>\n",
       "      <th>381</th>\n",
       "      <td>W.P. Putrajaya</td>\n",
       "      <td>2017</td>\n",
       "      <td>Nurse</td>\n",
       "      <td>Private</td>\n",
       "      <td>8</td>\n",
       "    </tr>\n",
       "    <tr>\n",
       "      <th>382</th>\n",
       "      <td>W.P. Putrajaya</td>\n",
       "      <td>2017</td>\n",
       "      <td>Community Nurse</td>\n",
       "      <td>Government</td>\n",
       "      <td>481</td>\n",
       "    </tr>\n",
       "    <tr>\n",
       "      <th>383</th>\n",
       "      <td>W.P. Putrajaya</td>\n",
       "      <td>2017</td>\n",
       "      <td>Community Nurse</td>\n",
       "      <td>Private</td>\n",
       "      <td>-</td>\n",
       "    </tr>\n",
       "  </tbody>\n",
       "</table>\n",
       "<p>384 rows × 5 columns</p>\n",
       "</div>"
      ],
      "text/plain": [
       "              State  Year       Staff type Hospital category Number of staff\n",
       "0             Johor  2015           Doctor       Government             2854\n",
       "1             Johor  2015           Doctor           Private            1399\n",
       "2             Johor  2015          Dentist        Government             331\n",
       "3             Johor  2015          Dentist           Private             259\n",
       "4             Johor  2015            Nurse        Government            6441\n",
       "..              ...   ...              ...               ...             ...\n",
       "379  W.P. Putrajaya  2017          Dentist           Private               7\n",
       "380  W.P. Putrajaya  2017            Nurse        Government            2312\n",
       "381  W.P. Putrajaya  2017            Nurse           Private               8\n",
       "382  W.P. Putrajaya  2017  Community Nurse        Government             481\n",
       "383  W.P. Putrajaya  2017  Community Nurse           Private               -\n",
       "\n",
       "[384 rows x 5 columns]"
      ]
     },
     "execution_count": 2,
     "metadata": {},
     "output_type": "execute_result"
    }
   ],
   "source": [
    "nonurse = pd.read_excel(\"file_20221106214353.xlsx\")\n",
    "nonurse"
   ]
  },
  {
   "cell_type": "code",
   "execution_count": 3,
   "id": "8807b2f3",
   "metadata": {},
   "outputs": [
    {
     "data": {
      "text/plain": [
       "State                object\n",
       "Year                  int64\n",
       "Staff type           object\n",
       "Hospital category    object\n",
       "Number of staff      object\n",
       "dtype: object"
      ]
     },
     "execution_count": 3,
     "metadata": {},
     "output_type": "execute_result"
    }
   ],
   "source": [
    "nonurse.dtypes"
   ]
  },
  {
   "cell_type": "code",
   "execution_count": 4,
   "id": "89d8bb78",
   "metadata": {},
   "outputs": [
    {
     "data": {
      "text/plain": [
       "State                object\n",
       "Year                  int64\n",
       "Staff type           object\n",
       "Hospital category    object\n",
       "Number of staff      object\n",
       "dtype: object"
      ]
     },
     "execution_count": 4,
     "metadata": {},
     "output_type": "execute_result"
    }
   ],
   "source": [
    "nonurse.dtypes"
   ]
  },
  {
   "cell_type": "code",
   "execution_count": 5,
   "id": "5f6f47b5",
   "metadata": {},
   "outputs": [
    {
     "data": {
      "text/plain": [
       "State                0\n",
       "Year                 0\n",
       "Staff type           0\n",
       "Hospital category    0\n",
       "Number of staff      0\n",
       "dtype: int64"
      ]
     },
     "execution_count": 5,
     "metadata": {},
     "output_type": "execute_result"
    }
   ],
   "source": [
    "nonurse.isnull().sum()"
   ]
  },
  {
   "cell_type": "code",
   "execution_count": 6,
   "id": "05ad80fb",
   "metadata": {},
   "outputs": [],
   "source": [
    "# Filter and drop rows containing \"Private\" in any column\n",
    "nonurse = nonurse[~nonurse.apply(lambda row: any('Private' in str(val) for val in row), axis=1)]"
   ]
  },
  {
   "cell_type": "code",
   "execution_count": 7,
   "id": "28ee365b",
   "metadata": {},
   "outputs": [],
   "source": [
    "# Filter and drop rows containing \"Dentist\" in any column\n",
    "nonurse = nonurse[~nonurse.apply(lambda row: any('Dentist' in str(val) for val in row), axis=1)]"
   ]
  },
  {
   "cell_type": "code",
   "execution_count": 8,
   "id": "06fb10a9",
   "metadata": {},
   "outputs": [],
   "source": [
    "# Filter and drop rows containing \"Community Nurse\" in any column\n",
    "nonurse = nonurse[~nonurse.apply(lambda row: any('Community Nurse' in str(val) for val in row), axis=1)]"
   ]
  },
  {
   "cell_type": "code",
   "execution_count": 9,
   "id": "182849f7",
   "metadata": {},
   "outputs": [
    {
     "data": {
      "text/html": [
       "<div>\n",
       "<style scoped>\n",
       "    .dataframe tbody tr th:only-of-type {\n",
       "        vertical-align: middle;\n",
       "    }\n",
       "\n",
       "    .dataframe tbody tr th {\n",
       "        vertical-align: top;\n",
       "    }\n",
       "\n",
       "    .dataframe thead th {\n",
       "        text-align: right;\n",
       "    }\n",
       "</style>\n",
       "<table border=\"1\" class=\"dataframe\">\n",
       "  <thead>\n",
       "    <tr style=\"text-align: right;\">\n",
       "      <th></th>\n",
       "      <th>State</th>\n",
       "      <th>Year</th>\n",
       "      <th>Staff type</th>\n",
       "      <th>Hospital category</th>\n",
       "      <th>Number of staff</th>\n",
       "    </tr>\n",
       "  </thead>\n",
       "  <tbody>\n",
       "    <tr>\n",
       "      <th>0</th>\n",
       "      <td>Johor</td>\n",
       "      <td>2015</td>\n",
       "      <td>Doctor</td>\n",
       "      <td>Government</td>\n",
       "      <td>2854</td>\n",
       "    </tr>\n",
       "    <tr>\n",
       "      <th>1</th>\n",
       "      <td>Johor</td>\n",
       "      <td>2015</td>\n",
       "      <td>Nurse</td>\n",
       "      <td>Government</td>\n",
       "      <td>6441</td>\n",
       "    </tr>\n",
       "    <tr>\n",
       "      <th>2</th>\n",
       "      <td>Johor</td>\n",
       "      <td>2016</td>\n",
       "      <td>Doctor</td>\n",
       "      <td>Government</td>\n",
       "      <td>2887</td>\n",
       "    </tr>\n",
       "    <tr>\n",
       "      <th>3</th>\n",
       "      <td>Johor</td>\n",
       "      <td>2016</td>\n",
       "      <td>Nurse</td>\n",
       "      <td>Government</td>\n",
       "      <td>6688</td>\n",
       "    </tr>\n",
       "    <tr>\n",
       "      <th>4</th>\n",
       "      <td>Johor</td>\n",
       "      <td>2017</td>\n",
       "      <td>Doctor</td>\n",
       "      <td>Government</td>\n",
       "      <td>3235</td>\n",
       "    </tr>\n",
       "    <tr>\n",
       "      <th>...</th>\n",
       "      <td>...</td>\n",
       "      <td>...</td>\n",
       "      <td>...</td>\n",
       "      <td>...</td>\n",
       "      <td>...</td>\n",
       "    </tr>\n",
       "    <tr>\n",
       "      <th>91</th>\n",
       "      <td>W.P. Putrajaya</td>\n",
       "      <td>2015</td>\n",
       "      <td>Nurse</td>\n",
       "      <td>Government</td>\n",
       "      <td>2952</td>\n",
       "    </tr>\n",
       "    <tr>\n",
       "      <th>92</th>\n",
       "      <td>W.P. Putrajaya</td>\n",
       "      <td>2016</td>\n",
       "      <td>Doctor</td>\n",
       "      <td>Government</td>\n",
       "      <td>4449</td>\n",
       "    </tr>\n",
       "    <tr>\n",
       "      <th>93</th>\n",
       "      <td>W.P. Putrajaya</td>\n",
       "      <td>2016</td>\n",
       "      <td>Nurse</td>\n",
       "      <td>Government</td>\n",
       "      <td>2875</td>\n",
       "    </tr>\n",
       "    <tr>\n",
       "      <th>94</th>\n",
       "      <td>W.P. Putrajaya</td>\n",
       "      <td>2017</td>\n",
       "      <td>Doctor</td>\n",
       "      <td>Government</td>\n",
       "      <td>4261</td>\n",
       "    </tr>\n",
       "    <tr>\n",
       "      <th>95</th>\n",
       "      <td>W.P. Putrajaya</td>\n",
       "      <td>2017</td>\n",
       "      <td>Nurse</td>\n",
       "      <td>Government</td>\n",
       "      <td>2312</td>\n",
       "    </tr>\n",
       "  </tbody>\n",
       "</table>\n",
       "<p>96 rows × 5 columns</p>\n",
       "</div>"
      ],
      "text/plain": [
       "             State  Year Staff type Hospital category Number of staff\n",
       "0            Johor  2015     Doctor       Government             2854\n",
       "1            Johor  2015      Nurse        Government            6441\n",
       "2            Johor  2016     Doctor       Government             2887\n",
       "3            Johor  2016      Nurse        Government            6688\n",
       "4            Johor  2017     Doctor       Government             3235\n",
       "..             ...   ...        ...               ...             ...\n",
       "91  W.P. Putrajaya  2015      Nurse        Government            2952\n",
       "92  W.P. Putrajaya  2016     Doctor       Government             4449\n",
       "93  W.P. Putrajaya  2016      Nurse        Government            2875\n",
       "94  W.P. Putrajaya  2017     Doctor       Government             4261\n",
       "95  W.P. Putrajaya  2017      Nurse        Government            2312\n",
       "\n",
       "[96 rows x 5 columns]"
      ]
     },
     "execution_count": 9,
     "metadata": {},
     "output_type": "execute_result"
    }
   ],
   "source": [
    "nonurse = nonurse.reset_index(drop=True)\n",
    "nonurse"
   ]
  },
  {
   "cell_type": "code",
   "execution_count": 10,
   "id": "8c3067ce",
   "metadata": {},
   "outputs": [
    {
     "data": {
      "text/plain": [
       "State                0\n",
       "Year                 0\n",
       "Staff type           0\n",
       "Hospital category    0\n",
       "Number of staff      0\n",
       "dtype: int64"
      ]
     },
     "execution_count": 10,
     "metadata": {},
     "output_type": "execute_result"
    }
   ],
   "source": [
    "nonurse.isnull().sum()"
   ]
  },
  {
   "cell_type": "code",
   "execution_count": 11,
   "id": "dec07a36",
   "metadata": {},
   "outputs": [],
   "source": [
    "# facilitiesmaster\n",
    "fm = pd.read_csv('facilities_master.csv')"
   ]
  },
  {
   "cell_type": "code",
   "execution_count": 12,
   "id": "69b3dd48",
   "metadata": {},
   "outputs": [
    {
     "data": {
      "text/plain": [
       "array(['Melaka', 'Perak', 'Selangor', 'W.P. Kuala Lumpur', 'Sabah',\n",
       "       'Pulau Pinang', 'Kedah', 'Sarawak', 'Pahang', 'Terengganu',\n",
       "       'Johor', 'Kelantan', 'Negeri Sembilan', 'W.P. Labuan',\n",
       "       'W.P. Putrajaya', 'Perlis'], dtype=object)"
      ]
     },
     "execution_count": 12,
     "metadata": {},
     "output_type": "execute_result"
    }
   ],
   "source": [
    "fm['state'].unique()"
   ]
  },
  {
   "cell_type": "code",
   "execution_count": 13,
   "id": "0b5e7df3",
   "metadata": {},
   "outputs": [
    {
     "data": {
      "text/plain": [
       "state        object\n",
       "district     object\n",
       "sector       object\n",
       "type         object\n",
       "name         object\n",
       "address      object\n",
       "phone        object\n",
       "lat         float64\n",
       "lon         float64\n",
       "dtype: object"
      ]
     },
     "execution_count": 13,
     "metadata": {},
     "output_type": "execute_result"
    }
   ],
   "source": [
    "fm.dtypes"
   ]
  },
  {
   "cell_type": "code",
   "execution_count": 14,
   "id": "175b0e60",
   "metadata": {},
   "outputs": [],
   "source": [
    "fm['lon'] = fm['lon'].astype(object)\n",
    "fm['lat'] = fm['lat'].astype(object)"
   ]
  },
  {
   "cell_type": "code",
   "execution_count": 15,
   "id": "4ed4fa94",
   "metadata": {},
   "outputs": [],
   "source": [
    "fm.to_csv('fm.csv', index=False)"
   ]
  },
  {
   "cell_type": "code",
   "execution_count": 16,
   "id": "e531adc4",
   "metadata": {},
   "outputs": [],
   "source": [
    "bs = pd.read_csv('bedutil_state.csv')"
   ]
  },
  {
   "cell_type": "code",
   "execution_count": 17,
   "id": "57ab10f2",
   "metadata": {},
   "outputs": [
    {
     "data": {
      "text/plain": [
       "state           object\n",
       "beds_nonicu      int64\n",
       "util_nonicu    float64\n",
       "beds_icu         int64\n",
       "util_icu       float64\n",
       "vent             int64\n",
       "util_vent      float64\n",
       "dtype: object"
      ]
     },
     "execution_count": 17,
     "metadata": {},
     "output_type": "execute_result"
    }
   ],
   "source": [
    "bs.dtypes"
   ]
  },
  {
   "cell_type": "code",
   "execution_count": 18,
   "id": "4f8ce10a",
   "metadata": {},
   "outputs": [
    {
     "data": {
      "text/plain": [
       "state          0\n",
       "beds_nonicu    0\n",
       "util_nonicu    0\n",
       "beds_icu       0\n",
       "util_icu       0\n",
       "vent           0\n",
       "util_vent      0\n",
       "dtype: int64"
      ]
     },
     "execution_count": 18,
     "metadata": {},
     "output_type": "execute_result"
    }
   ],
   "source": [
    "bs.isnull().sum()"
   ]
  },
  {
   "cell_type": "code",
   "execution_count": 19,
   "id": "c5e50e2d",
   "metadata": {},
   "outputs": [],
   "source": [
    "column_to_drop = ['vent','util_vent']\n",
    "bsnew = bs.drop(column_to_drop, axis=1)"
   ]
  },
  {
   "cell_type": "code",
   "execution_count": 20,
   "id": "871fdb6e",
   "metadata": {},
   "outputs": [],
   "source": [
    "bsnew.to_csv('bsnew.csv', index=False)"
   ]
  },
  {
   "cell_type": "code",
   "execution_count": 21,
   "id": "718927aa",
   "metadata": {},
   "outputs": [],
   "source": [
    "data = pd.read_excel(\"file_20221106215053.xlsx\")"
   ]
  },
  {
   "cell_type": "code",
   "execution_count": 22,
   "id": "e5332501",
   "metadata": {},
   "outputs": [
    {
     "data": {
      "text/plain": [
       "Year                     object\n",
       "State                    object\n",
       "Communicable diseases    object\n",
       "Number                   object\n",
       "Rate                     object\n",
       "dtype: object"
      ]
     },
     "execution_count": 22,
     "metadata": {},
     "output_type": "execute_result"
    }
   ],
   "source": [
    "data.dtypes"
   ]
  },
  {
   "cell_type": "code",
   "execution_count": 23,
   "id": "16da2913",
   "metadata": {},
   "outputs": [],
   "source": [
    "data = data.replace('-', pd.NA)\n",
    "\n",
    "# Convert 'Number' and 'Rate' columns to numeric\n",
    "data['Number'] = pd.to_numeric(data['Number'], errors='coerce')\n",
    "data['Rate'] = pd.to_numeric(data['Rate'], errors='coerce')\n",
    "\n",
    "# Drop rows with NaN in 'Number' or 'Rate' columns\n",
    "data.dropna(subset=['Number', 'Rate'], inplace=True)"
   ]
  },
  {
   "cell_type": "code",
   "execution_count": 24,
   "id": "3fd2dc06",
   "metadata": {},
   "outputs": [
    {
     "data": {
      "text/plain": [
       "Year                      object\n",
       "State                     object\n",
       "Communicable diseases     object\n",
       "Number                   float64\n",
       "Rate                     float64\n",
       "dtype: object"
      ]
     },
     "execution_count": 24,
     "metadata": {},
     "output_type": "execute_result"
    }
   ],
   "source": [
    "data.dtypes"
   ]
  },
  {
   "cell_type": "code",
   "execution_count": 25,
   "id": "b8111f9e",
   "metadata": {},
   "outputs": [
    {
     "data": {
      "text/plain": [
       "array([2013, 2014, 2015, 2017, 2018, '2016p'], dtype=object)"
      ]
     },
     "execution_count": 25,
     "metadata": {},
     "output_type": "execute_result"
    }
   ],
   "source": [
    "unique_Year = data['Year'].unique()\n",
    "unique_Year"
   ]
  },
  {
   "cell_type": "code",
   "execution_count": 26,
   "id": "c8ccf9b1",
   "metadata": {},
   "outputs": [
    {
     "data": {
      "text/plain": [
       "array(['Johor', 'Kedah', 'Kelantan', 'Malaysia', 'Melaka',\n",
       "       'Negeri Sembilan', 'Pahang', 'Perak', 'Perlis', 'Pulau Pinang',\n",
       "       'Sabah', 'Sarawak', 'Selangor', 'Terengganu', 'W.P. Kuala Lumpur',\n",
       "       'W.P. Labuan'], dtype=object)"
      ]
     },
     "execution_count": 26,
     "metadata": {},
     "output_type": "execute_result"
    }
   ],
   "source": [
    "unique_State = data['State'].unique()\n",
    "unique_State"
   ]
  },
  {
   "cell_type": "code",
   "execution_count": 27,
   "id": "d189d95c",
   "metadata": {},
   "outputs": [
    {
     "data": {
      "text/plain": [
       "array(['Dengue fever', 'Dengue haemorrhagic fever', 'Dysentry ',\n",
       "       'Food poisoning', 'Hepatitis A', 'Hepatitis B', 'Hepatitis C',\n",
       "       'Leprosy', 'Measles', 'Tuberculosis', 'Typhoid', 'Whooping cough',\n",
       "       'Other Tetanus', 'Cholera', 'Other Specified Viral',\n",
       "       'Neonatal Tetanus ', 'Viral encephalitis', 'A.I.D.S', 'Gonorrhoea',\n",
       "       'H.I.V', 'Hand, Foot and Mouth Disease', 'Leptospirosis',\n",
       "       'Malaria', 'Syphillis', 'Diphteria', 'Typhus', 'Pertusis'],\n",
       "      dtype=object)"
      ]
     },
     "execution_count": 27,
     "metadata": {},
     "output_type": "execute_result"
    }
   ],
   "source": [
    "unique_Com = data['Communicable diseases'].unique()\n",
    "unique_Com"
   ]
  },
  {
   "cell_type": "code",
   "execution_count": 28,
   "id": "b4d3d651",
   "metadata": {},
   "outputs": [],
   "source": [
    "data['Number'] = data['Number'].astype(int)"
   ]
  },
  {
   "cell_type": "code",
   "execution_count": 29,
   "id": "291948e2",
   "metadata": {},
   "outputs": [],
   "source": [
    "data.loc[data['Year'] == '2016p', 'Year'] = 2016"
   ]
  },
  {
   "cell_type": "code",
   "execution_count": 30,
   "id": "a988742e",
   "metadata": {},
   "outputs": [
    {
     "data": {
      "text/plain": [
       "array([2013, 2014, 2015, 2017, 2018, 2016], dtype=object)"
      ]
     },
     "execution_count": 30,
     "metadata": {},
     "output_type": "execute_result"
    }
   ],
   "source": [
    "unique_Year = data['Year'].unique()\n",
    "unique_Year"
   ]
  },
  {
   "cell_type": "code",
   "execution_count": 31,
   "id": "9d99ac80",
   "metadata": {},
   "outputs": [],
   "source": [
    "data['Year'] = data['Year'].astype(int)"
   ]
  },
  {
   "cell_type": "code",
   "execution_count": 32,
   "id": "0d04c95f",
   "metadata": {},
   "outputs": [
    {
     "data": {
      "text/plain": [
       "Year                       int32\n",
       "State                     object\n",
       "Communicable diseases     object\n",
       "Number                     int32\n",
       "Rate                     float64\n",
       "dtype: object"
      ]
     },
     "execution_count": 32,
     "metadata": {},
     "output_type": "execute_result"
    }
   ],
   "source": [
    "data.dtypes"
   ]
  },
  {
   "cell_type": "code",
   "execution_count": 33,
   "id": "d5056020",
   "metadata": {},
   "outputs": [],
   "source": [
    "data['State'] = data['State'].replace('W.P. Kuala Lumpur', 'WP KL & Putrajaya')\n",
    "data['State'] = data['State'].replace('W.P. Labuan', 'W.P.Labuan')"
   ]
  },
  {
   "cell_type": "code",
   "execution_count": 34,
   "id": "d5454426",
   "metadata": {},
   "outputs": [
    {
     "data": {
      "text/html": [
       "<div>\n",
       "<style scoped>\n",
       "    .dataframe tbody tr th:only-of-type {\n",
       "        vertical-align: middle;\n",
       "    }\n",
       "\n",
       "    .dataframe tbody tr th {\n",
       "        vertical-align: top;\n",
       "    }\n",
       "\n",
       "    .dataframe thead th {\n",
       "        text-align: right;\n",
       "    }\n",
       "</style>\n",
       "<table border=\"1\" class=\"dataframe\">\n",
       "  <thead>\n",
       "    <tr style=\"text-align: right;\">\n",
       "      <th></th>\n",
       "      <th>Year</th>\n",
       "      <th>State</th>\n",
       "      <th>Communicable diseases</th>\n",
       "      <th>Number</th>\n",
       "      <th>Rate</th>\n",
       "    </tr>\n",
       "  </thead>\n",
       "  <tbody>\n",
       "    <tr>\n",
       "      <th>1</th>\n",
       "      <td>2013</td>\n",
       "      <td>Johor</td>\n",
       "      <td>Dengue fever</td>\n",
       "      <td>4750</td>\n",
       "      <td>136.60</td>\n",
       "    </tr>\n",
       "    <tr>\n",
       "      <th>2</th>\n",
       "      <td>2013</td>\n",
       "      <td>Johor</td>\n",
       "      <td>Dengue haemorrhagic fever</td>\n",
       "      <td>78</td>\n",
       "      <td>2.24</td>\n",
       "    </tr>\n",
       "    <tr>\n",
       "      <th>3</th>\n",
       "      <td>2013</td>\n",
       "      <td>Johor</td>\n",
       "      <td>Dysentry</td>\n",
       "      <td>1</td>\n",
       "      <td>0.03</td>\n",
       "    </tr>\n",
       "    <tr>\n",
       "      <th>4</th>\n",
       "      <td>2013</td>\n",
       "      <td>Johor</td>\n",
       "      <td>Food poisoning</td>\n",
       "      <td>1447</td>\n",
       "      <td>41.61</td>\n",
       "    </tr>\n",
       "    <tr>\n",
       "      <th>5</th>\n",
       "      <td>2013</td>\n",
       "      <td>Johor</td>\n",
       "      <td>Hepatitis A</td>\n",
       "      <td>2</td>\n",
       "      <td>0.06</td>\n",
       "    </tr>\n",
       "    <tr>\n",
       "      <th>...</th>\n",
       "      <td>...</td>\n",
       "      <td>...</td>\n",
       "      <td>...</td>\n",
       "      <td>...</td>\n",
       "      <td>...</td>\n",
       "    </tr>\n",
       "    <tr>\n",
       "      <th>2370</th>\n",
       "      <td>2016</td>\n",
       "      <td>W.P.Labuan</td>\n",
       "      <td>Hepatitis C</td>\n",
       "      <td>1</td>\n",
       "      <td>1.02</td>\n",
       "    </tr>\n",
       "    <tr>\n",
       "      <th>2372</th>\n",
       "      <td>2016</td>\n",
       "      <td>W.P.Labuan</td>\n",
       "      <td>Leptospirosis</td>\n",
       "      <td>42</td>\n",
       "      <td>42.94</td>\n",
       "    </tr>\n",
       "    <tr>\n",
       "      <th>2379</th>\n",
       "      <td>2016</td>\n",
       "      <td>W.P.Labuan</td>\n",
       "      <td>Syphillis</td>\n",
       "      <td>7</td>\n",
       "      <td>7.16</td>\n",
       "    </tr>\n",
       "    <tr>\n",
       "      <th>2380</th>\n",
       "      <td>2016</td>\n",
       "      <td>W.P.Labuan</td>\n",
       "      <td>Tuberculosis</td>\n",
       "      <td>133</td>\n",
       "      <td>135.99</td>\n",
       "    </tr>\n",
       "    <tr>\n",
       "      <th>2381</th>\n",
       "      <td>2016</td>\n",
       "      <td>W.P.Labuan</td>\n",
       "      <td>Typhoid</td>\n",
       "      <td>4</td>\n",
       "      <td>4.09</td>\n",
       "    </tr>\n",
       "  </tbody>\n",
       "</table>\n",
       "<p>1882 rows × 5 columns</p>\n",
       "</div>"
      ],
      "text/plain": [
       "      Year       State      Communicable diseases  Number    Rate\n",
       "1     2013       Johor               Dengue fever    4750  136.60\n",
       "2     2013       Johor  Dengue haemorrhagic fever      78    2.24\n",
       "3     2013       Johor                  Dysentry        1    0.03\n",
       "4     2013       Johor             Food poisoning    1447   41.61\n",
       "5     2013       Johor                Hepatitis A       2    0.06\n",
       "...    ...         ...                        ...     ...     ...\n",
       "2370  2016  W.P.Labuan                Hepatitis C       1    1.02\n",
       "2372  2016  W.P.Labuan              Leptospirosis      42   42.94\n",
       "2379  2016  W.P.Labuan                  Syphillis       7    7.16\n",
       "2380  2016  W.P.Labuan               Tuberculosis     133  135.99\n",
       "2381  2016  W.P.Labuan                    Typhoid       4    4.09\n",
       "\n",
       "[1882 rows x 5 columns]"
      ]
     },
     "execution_count": 34,
     "metadata": {},
     "output_type": "execute_result"
    }
   ],
   "source": [
    "data"
   ]
  },
  {
   "cell_type": "code",
   "execution_count": 35,
   "id": "87732fa1",
   "metadata": {},
   "outputs": [],
   "source": [
    "data.to_csv('new_file_diseases.csv', index=False)"
   ]
  },
  {
   "cell_type": "code",
   "execution_count": null,
   "id": "fc8d6869",
   "metadata": {},
   "outputs": [],
   "source": []
  }
 ],
 "metadata": {
  "kernelspec": {
   "display_name": "Python 3 (ipykernel)",
   "language": "python",
   "name": "python3"
  },
  "language_info": {
   "codemirror_mode": {
    "name": "ipython",
    "version": 3
   },
   "file_extension": ".py",
   "mimetype": "text/x-python",
   "name": "python",
   "nbconvert_exporter": "python",
   "pygments_lexer": "ipython3",
   "version": "3.9.13"
  }
 },
 "nbformat": 4,
 "nbformat_minor": 5
}
